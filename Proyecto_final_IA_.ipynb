{
  "nbformat": 4,
  "nbformat_minor": 0,
  "metadata": {
    "colab": {
      "provenance": [],
      "authorship_tag": "ABX9TyOZ/Ees08AamgO3CUBhKrDK",
      "include_colab_link": true
    },
    "kernelspec": {
      "name": "python3",
      "display_name": "Python 3"
    },
    "language_info": {
      "name": "python"
    }
  },
  "cells": [
    {
      "cell_type": "markdown",
      "metadata": {
        "id": "view-in-github",
        "colab_type": "text"
      },
      "source": [
        "<a href=\"https://colab.research.google.com/github/MicaelaCasalnuovo/CASALNUOVO_3ER_ENTREGA/blob/main/Proyecto_final_IA_.ipynb\" target=\"_parent\"><img src=\"https://colab.research.google.com/assets/colab-badge.svg\" alt=\"Open In Colab\"/></a>"
      ]
    },
    {
      "cell_type": "code",
      "source": [
        "pip install groq"
      ],
      "metadata": {
        "colab": {
          "base_uri": "https://localhost:8080/"
        },
        "collapsed": true,
        "id": "28Vr3DtfOmPG",
        "outputId": "a806f826-5aa3-457d-e959-ebf918b59dcf"
      },
      "execution_count": 53,
      "outputs": [
        {
          "output_type": "stream",
          "name": "stdout",
          "text": [
            "Collecting groq\n",
            "  Downloading groq-0.18.0-py3-none-any.whl.metadata (14 kB)\n",
            "Requirement already satisfied: anyio<5,>=3.5.0 in /usr/local/lib/python3.11/dist-packages (from groq) (3.7.1)\n",
            "Requirement already satisfied: distro<2,>=1.7.0 in /usr/local/lib/python3.11/dist-packages (from groq) (1.9.0)\n",
            "Requirement already satisfied: httpx<1,>=0.23.0 in /usr/local/lib/python3.11/dist-packages (from groq) (0.28.1)\n",
            "Requirement already satisfied: pydantic<3,>=1.9.0 in /usr/local/lib/python3.11/dist-packages (from groq) (2.10.6)\n",
            "Requirement already satisfied: sniffio in /usr/local/lib/python3.11/dist-packages (from groq) (1.3.1)\n",
            "Requirement already satisfied: typing-extensions<5,>=4.10 in /usr/local/lib/python3.11/dist-packages (from groq) (4.12.2)\n",
            "Requirement already satisfied: idna>=2.8 in /usr/local/lib/python3.11/dist-packages (from anyio<5,>=3.5.0->groq) (3.10)\n",
            "Requirement already satisfied: certifi in /usr/local/lib/python3.11/dist-packages (from httpx<1,>=0.23.0->groq) (2025.1.31)\n",
            "Requirement already satisfied: httpcore==1.* in /usr/local/lib/python3.11/dist-packages (from httpx<1,>=0.23.0->groq) (1.0.7)\n",
            "Requirement already satisfied: h11<0.15,>=0.13 in /usr/local/lib/python3.11/dist-packages (from httpcore==1.*->httpx<1,>=0.23.0->groq) (0.14.0)\n",
            "Requirement already satisfied: annotated-types>=0.6.0 in /usr/local/lib/python3.11/dist-packages (from pydantic<3,>=1.9.0->groq) (0.7.0)\n",
            "Requirement already satisfied: pydantic-core==2.27.2 in /usr/local/lib/python3.11/dist-packages (from pydantic<3,>=1.9.0->groq) (2.27.2)\n",
            "Downloading groq-0.18.0-py3-none-any.whl (121 kB)\n",
            "\u001b[?25l   \u001b[90m━━━━━━━━━━━━━━━━━━━━━━━━━━━━━━━━━━━━━━━━\u001b[0m \u001b[32m0.0/121.9 kB\u001b[0m \u001b[31m?\u001b[0m eta \u001b[36m-:--:--\u001b[0m\r\u001b[2K   \u001b[90m━━━━━━━━━━━━━━━━━━━━━━━━━━━━━━━━━━━━━━━━\u001b[0m \u001b[32m121.9/121.9 kB\u001b[0m \u001b[31m5.4 MB/s\u001b[0m eta \u001b[36m0:00:00\u001b[0m\n",
            "\u001b[?25hInstalling collected packages: groq\n",
            "Successfully installed groq-0.18.0\n"
          ]
        }
      ]
    },
    {
      "cell_type": "code",
      "source": [
        "from groq import Groq"
      ],
      "metadata": {
        "id": "ME1rdPdJOw5M"
      },
      "execution_count": 55,
      "outputs": []
    },
    {
      "cell_type": "code",
      "source": [
        "cliente = Groq(api_key=\"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\")"
      ],
      "metadata": {
        "id": "UGp9H9T3PK5s"
      },
      "execution_count": 58,
      "outputs": []
    },
    {
      "cell_type": "code",
      "source": [
        "from groq import Groq\n",
        "\n",
        "\n",
        "cliente = Groq(api_key=\"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\")\n",
        "\n",
        "# Función para generar un cuento\n",
        "def generar_cuento(palabras, max_palabras=150):\n",
        "    # Usar palabras clave para armar el cuento\n",
        "    prompt = f\"Escribe un cuento corto que incluya las siguientes palabras: {palabras}. El cuento debe tener un máximo de {max_palabras} palabras.\"\n",
        "\n",
        "    # Llamada a la API para generar el cuento\n",
        "    try:\n",
        "        chat_completion = cliente.chat.completions.create(\n",
        "            model=\"llama3-8b-8192\",\n",
        "            messages=[{\n",
        "                \"role\": \"user\",\n",
        "                \"content\": prompt\n",
        "            }],\n",
        "            max_tokens=200  # Ajustamos los tokens para limitar el tamaño del cuento\n",
        "        )\n",
        "\n",
        "        # Obtener el cuento generado\n",
        "        cuento = chat_completion.choices[0].message.content\n",
        "\n",
        "        # Limitar la longitud del cuento a 150 palabras\n",
        "        cuento_limite = ' '.join(cuento.split()[:max_palabras])\n",
        "\n",
        "        return cuento_limite\n",
        "\n",
        "    except Exception as e:\n",
        "        return f\"Ocurrió un error: {e}\"\n",
        "\n",
        "# Solicitar palabras clave del usuario\n",
        "palabras_input = input(\"Ingresa las palabras para el cuento (separadas por comas): \")\n",
        "\n",
        "# Generar y mostrar el cuento\n",
        "cuento_generado = generar_cuento(palabras_input)\n",
        "print(\"\\nCuento generado:\")\n",
        "print(cuento_generado)\n"
      ],
      "metadata": {
        "colab": {
          "base_uri": "https://localhost:8080/"
        },
        "id": "OEs32iUJWSqS",
        "outputId": "b061357c-fdf8-4c17-9d52-e793adc6b646"
      },
      "execution_count": 97,
      "outputs": [
        {
          "output_type": "stream",
          "name": "stdout",
          "text": [
            "Ingresa las palabras para el cuento (separadas por comas): caballos, princesas\n",
            "\n",
            "Cuento generado:\n",
            "En el reino de Azura, había tres princesas hermanas que amaban caballos más que la vida misma. Cada una tenía un pony que era su compañero inseparable. Una mañana,Whilemira, la pequeña princesa, descubrió un mapamundi escondido en sus aposentos que llevaba a un valle mágico donde crecían los caballos más valientes del reino. Sin pensarlo, las tres princesas montaron sus ponies y partieron hacia el valle. Al llegar, encontraron un caballo blanco albino que les habló y les ofreció hacerles un regalo: transformar sus ponies en magníficos caballos de guerra. Las princesas aceptaron y regresaron al reino con sus nuevos compañeros de batalla, listas para proteger a su pueblo.\n"
          ]
        }
      ]
    },
    {
      "cell_type": "code",
      "source": [
        "!pip install openai==0.28.0"
      ],
      "metadata": {
        "colab": {
          "base_uri": "https://localhost:8080/"
        },
        "id": "pFUcWwdmnI0V",
        "outputId": "dc1df551-f79b-4238-b6d8-6d8b6f853840"
      },
      "execution_count": 8,
      "outputs": [
        {
          "output_type": "stream",
          "name": "stdout",
          "text": [
            "Requirement already satisfied: openai==0.28.0 in /usr/local/lib/python3.11/dist-packages (0.28.0)\n",
            "Requirement already satisfied: requests>=2.20 in /usr/local/lib/python3.11/dist-packages (from openai==0.28.0) (2.32.3)\n",
            "Requirement already satisfied: tqdm in /usr/local/lib/python3.11/dist-packages (from openai==0.28.0) (4.67.1)\n",
            "Requirement already satisfied: aiohttp in /usr/local/lib/python3.11/dist-packages (from openai==0.28.0) (3.11.13)\n",
            "Requirement already satisfied: charset-normalizer<4,>=2 in /usr/local/lib/python3.11/dist-packages (from requests>=2.20->openai==0.28.0) (3.4.1)\n",
            "Requirement already satisfied: idna<4,>=2.5 in /usr/local/lib/python3.11/dist-packages (from requests>=2.20->openai==0.28.0) (3.10)\n",
            "Requirement already satisfied: urllib3<3,>=1.21.1 in /usr/local/lib/python3.11/dist-packages (from requests>=2.20->openai==0.28.0) (2.3.0)\n",
            "Requirement already satisfied: certifi>=2017.4.17 in /usr/local/lib/python3.11/dist-packages (from requests>=2.20->openai==0.28.0) (2025.1.31)\n",
            "Requirement already satisfied: aiohappyeyeballs>=2.3.0 in /usr/local/lib/python3.11/dist-packages (from aiohttp->openai==0.28.0) (2.4.6)\n",
            "Requirement already satisfied: aiosignal>=1.1.2 in /usr/local/lib/python3.11/dist-packages (from aiohttp->openai==0.28.0) (1.3.2)\n",
            "Requirement already satisfied: attrs>=17.3.0 in /usr/local/lib/python3.11/dist-packages (from aiohttp->openai==0.28.0) (25.1.0)\n",
            "Requirement already satisfied: frozenlist>=1.1.1 in /usr/local/lib/python3.11/dist-packages (from aiohttp->openai==0.28.0) (1.5.0)\n",
            "Requirement already satisfied: multidict<7.0,>=4.5 in /usr/local/lib/python3.11/dist-packages (from aiohttp->openai==0.28.0) (6.1.0)\n",
            "Requirement already satisfied: propcache>=0.2.0 in /usr/local/lib/python3.11/dist-packages (from aiohttp->openai==0.28.0) (0.3.0)\n",
            "Requirement already satisfied: yarl<2.0,>=1.17.0 in /usr/local/lib/python3.11/dist-packages (from aiohttp->openai==0.28.0) (1.18.3)\n"
          ]
        }
      ]
    },
    {
      "cell_type": "code",
      "source": [
        "import openai\n",
        "import requests\n",
        "from PIL import Image\n",
        "from io import BytesIO\n",
        "\n",
        "# Configura tu clave de API\n",
        "openai.api_key = 'tu_clave_api'  # Reemplaza 'tu_clave_api' con tu clave API real\n",
        "\n",
        "# Función para generar imagen con DALL·E usando la nueva API\n",
        "def generar_imagen_dalle(prompt):\n",
        "    try:\n",
        "        # Llamar a la API de OpenAI para generar la imagen (usando la nueva API)\n",
        "        response = openai.Image.create(\n",
        "            prompt=prompt,\n",
        "            n=1,  # Número de imágenes que quieres generar\n",
        "            size=\"1024x1024\"  # Tamaño de la imagen generada\n",
        "        )\n",
        "\n",
        "        # Obtener la URL de la imagen generada\n",
        "        img_url = response['data'][0]['url']\n",
        "\n",
        "        # Descargar la imagen y mostrarla\n",
        "        img_data = requests.get(img_url).content\n",
        "        img = Image.open(BytesIO(img_data))\n",
        "        img.show()\n",
        "\n",
        "    except Exception as e:\n",
        "        print(f\"Error al generar la imagen: {e}\")\n",
        "\n",
        "# Descripción del prompt para generar una imagen\n",
        "texto_imagen_dragón = \"A fierce dragon sleeping under a tree in a magical forest, glowing trees and mist.\"\n",
        "texto_imagen_princesa = \"A brave princess walking in a mystical enchanted forest, with glowing flowers and a magical atmosphere.\"\n",
        "\n",
        "# Generar y mostrar las imágenes\n",
        "print(\"Generando imagen del dragón...\")\n",
        "generar_imagen_dalle(texto_imagen_dragón)\n",
        "\n",
        "print(\"Generando imagen de la princesa...\")\n",
        "generar_imagen_dalle(texto_imagen_princesa)\n"
      ],
      "metadata": {
        "colab": {
          "base_uri": "https://localhost:8080/"
        },
        "id": "Rdk9dlMmncDA",
        "outputId": "6114300d-d6b8-417a-eb93-3301fa91dc2d"
      },
      "execution_count": 9,
      "outputs": [
        {
          "output_type": "stream",
          "name": "stdout",
          "text": [
            "Generando imagen del dragón...\n",
            "Error al generar la imagen: Incorrect API key provided: tu_clave_api. You can find your API key at https://platform.openai.com/account/api-keys.\n",
            "Generando imagen de la princesa...\n",
            "Error al generar la imagen: Incorrect API key provided: tu_clave_api. You can find your API key at https://platform.openai.com/account/api-keys.\n"
          ]
        }
      ]
    }
  ]
}